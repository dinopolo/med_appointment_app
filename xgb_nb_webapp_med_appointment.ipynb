{
 "cells": [
  {
   "cell_type": "markdown",
   "id": "aerial-bumper",
   "metadata": {},
   "source": [
    "# **Análise do não comparecimento de pacientes à consultas médicas**"
   ]
  },
  {
   "cell_type": "markdown",
   "id": "planned-klein",
   "metadata": {},
   "source": [
    "Neste projeto, vou construir um modelo de *Machine Learning* para prever se um paciente vai ou não comparecer a consulta médica que tem agendada. Para isso, vou utilizar o conjunto de dados disponibilizado no site do [Kaggle](https://www.kaggle.com/joniarroba/noshowappointments)."
   ]
  },
  {
   "cell_type": "markdown",
   "id": "collectible-climb",
   "metadata": {},
   "source": [
    "## **Importando as bibliotecas necessárias e o conjunto de dados**"
   ]
  },
  {
   "cell_type": "code",
   "execution_count": 1,
   "id": "applied-norfolk",
   "metadata": {},
   "outputs": [],
   "source": [
    "# Importando as bibliotecas\n",
    "import pandas as pd\n",
    "import numpy as np\n",
    "import matplotlib.pyplot as plt\n",
    "import seaborn as sns\n",
    "import pickle\n",
    "\n",
    "from sklearn.model_selection import train_test_split, GridSearchCV, ShuffleSplit\n",
    "from sklearn.preprocessing import LabelEncoder\n",
    "from sklearn.metrics import accuracy_score, roc_auc_score, confusion_matrix\n",
    "\n",
    "from xgboost import XGBClassifier\n",
    "\n",
    "from imblearn.under_sampling import RandomUnderSampler\n",
    "\n",
    "from yellowbrick.classifier import ROCAUC\n",
    "\n",
    "# Configurando o notebook\n",
    "%matplotlib inline\n",
    "sns.set(style='white')\n",
    "\n",
    "# Removendo avisos\n",
    "import warnings\n",
    "warnings.filterwarnings(\"ignore\")"
   ]
  },
  {
   "cell_type": "code",
   "execution_count": 2,
   "id": "separated-steel",
   "metadata": {},
   "outputs": [],
   "source": [
    "# Importando o conjunto de dados\n",
    "df = pd.read_csv(\"https://raw.githubusercontent.com/dinopolo/med_appointment_app/main/Dataset/med_appointment_data.csv\")"
   ]
  },
  {
   "cell_type": "markdown",
   "id": "selective-genealogy",
   "metadata": {},
   "source": [
    "## **Análise Exploratória dos Dados**"
   ]
  },
  {
   "cell_type": "markdown",
   "id": "arctic-magic",
   "metadata": {},
   "source": [
    "**Primeiras Entradas**"
   ]
  },
  {
   "cell_type": "code",
   "execution_count": 3,
   "id": "bottom-brief",
   "metadata": {},
   "outputs": [
    {
     "data": {
      "text/html": [
       "<div>\n",
       "<style scoped>\n",
       "    .dataframe tbody tr th:only-of-type {\n",
       "        vertical-align: middle;\n",
       "    }\n",
       "\n",
       "    .dataframe tbody tr th {\n",
       "        vertical-align: top;\n",
       "    }\n",
       "\n",
       "    .dataframe thead th {\n",
       "        text-align: right;\n",
       "    }\n",
       "</style>\n",
       "<table border=\"1\" class=\"dataframe\">\n",
       "  <thead>\n",
       "    <tr style=\"text-align: right;\">\n",
       "      <th></th>\n",
       "      <th>PatientId</th>\n",
       "      <th>AppointmentID</th>\n",
       "      <th>Gender</th>\n",
       "      <th>ScheduledDay</th>\n",
       "      <th>AppointmentDay</th>\n",
       "      <th>Age</th>\n",
       "      <th>Neighbourhood</th>\n",
       "      <th>Scholarship</th>\n",
       "      <th>Hipertension</th>\n",
       "      <th>Diabetes</th>\n",
       "      <th>Alcoholism</th>\n",
       "      <th>Handcap</th>\n",
       "      <th>SMS_received</th>\n",
       "      <th>No-show</th>\n",
       "    </tr>\n",
       "  </thead>\n",
       "  <tbody>\n",
       "    <tr>\n",
       "      <th>0</th>\n",
       "      <td>2.987250e+13</td>\n",
       "      <td>5642903</td>\n",
       "      <td>F</td>\n",
       "      <td>2016-04-29T18:38:08Z</td>\n",
       "      <td>2016-04-29T00:00:00Z</td>\n",
       "      <td>62</td>\n",
       "      <td>JARDIM DA PENHA</td>\n",
       "      <td>0</td>\n",
       "      <td>1</td>\n",
       "      <td>0</td>\n",
       "      <td>0</td>\n",
       "      <td>0</td>\n",
       "      <td>0</td>\n",
       "      <td>No</td>\n",
       "    </tr>\n",
       "    <tr>\n",
       "      <th>1</th>\n",
       "      <td>5.589978e+14</td>\n",
       "      <td>5642503</td>\n",
       "      <td>M</td>\n",
       "      <td>2016-04-29T16:08:27Z</td>\n",
       "      <td>2016-04-29T00:00:00Z</td>\n",
       "      <td>56</td>\n",
       "      <td>JARDIM DA PENHA</td>\n",
       "      <td>0</td>\n",
       "      <td>0</td>\n",
       "      <td>0</td>\n",
       "      <td>0</td>\n",
       "      <td>0</td>\n",
       "      <td>0</td>\n",
       "      <td>No</td>\n",
       "    </tr>\n",
       "    <tr>\n",
       "      <th>2</th>\n",
       "      <td>4.262962e+12</td>\n",
       "      <td>5642549</td>\n",
       "      <td>F</td>\n",
       "      <td>2016-04-29T16:19:04Z</td>\n",
       "      <td>2016-04-29T00:00:00Z</td>\n",
       "      <td>62</td>\n",
       "      <td>MATA DA PRAIA</td>\n",
       "      <td>0</td>\n",
       "      <td>0</td>\n",
       "      <td>0</td>\n",
       "      <td>0</td>\n",
       "      <td>0</td>\n",
       "      <td>0</td>\n",
       "      <td>No</td>\n",
       "    </tr>\n",
       "    <tr>\n",
       "      <th>3</th>\n",
       "      <td>8.679512e+11</td>\n",
       "      <td>5642828</td>\n",
       "      <td>F</td>\n",
       "      <td>2016-04-29T17:29:31Z</td>\n",
       "      <td>2016-04-29T00:00:00Z</td>\n",
       "      <td>8</td>\n",
       "      <td>PONTAL DE CAMBURI</td>\n",
       "      <td>0</td>\n",
       "      <td>0</td>\n",
       "      <td>0</td>\n",
       "      <td>0</td>\n",
       "      <td>0</td>\n",
       "      <td>0</td>\n",
       "      <td>No</td>\n",
       "    </tr>\n",
       "    <tr>\n",
       "      <th>4</th>\n",
       "      <td>8.841186e+12</td>\n",
       "      <td>5642494</td>\n",
       "      <td>F</td>\n",
       "      <td>2016-04-29T16:07:23Z</td>\n",
       "      <td>2016-04-29T00:00:00Z</td>\n",
       "      <td>56</td>\n",
       "      <td>JARDIM DA PENHA</td>\n",
       "      <td>0</td>\n",
       "      <td>1</td>\n",
       "      <td>1</td>\n",
       "      <td>0</td>\n",
       "      <td>0</td>\n",
       "      <td>0</td>\n",
       "      <td>No</td>\n",
       "    </tr>\n",
       "  </tbody>\n",
       "</table>\n",
       "</div>"
      ],
      "text/plain": [
       "      PatientId  AppointmentID Gender          ScheduledDay  \\\n",
       "0  2.987250e+13        5642903      F  2016-04-29T18:38:08Z   \n",
       "1  5.589978e+14        5642503      M  2016-04-29T16:08:27Z   \n",
       "2  4.262962e+12        5642549      F  2016-04-29T16:19:04Z   \n",
       "3  8.679512e+11        5642828      F  2016-04-29T17:29:31Z   \n",
       "4  8.841186e+12        5642494      F  2016-04-29T16:07:23Z   \n",
       "\n",
       "         AppointmentDay  Age      Neighbourhood  Scholarship  Hipertension  \\\n",
       "0  2016-04-29T00:00:00Z   62    JARDIM DA PENHA            0             1   \n",
       "1  2016-04-29T00:00:00Z   56    JARDIM DA PENHA            0             0   \n",
       "2  2016-04-29T00:00:00Z   62      MATA DA PRAIA            0             0   \n",
       "3  2016-04-29T00:00:00Z    8  PONTAL DE CAMBURI            0             0   \n",
       "4  2016-04-29T00:00:00Z   56    JARDIM DA PENHA            0             1   \n",
       "\n",
       "   Diabetes  Alcoholism  Handcap  SMS_received No-show  \n",
       "0         0           0        0             0      No  \n",
       "1         0           0        0             0      No  \n",
       "2         0           0        0             0      No  \n",
       "3         0           0        0             0      No  \n",
       "4         1           0        0             0      No  "
      ]
     },
     "execution_count": 3,
     "metadata": {},
     "output_type": "execute_result"
    }
   ],
   "source": [
    "df.head()"
   ]
  },
  {
   "cell_type": "markdown",
   "id": "suspended-cancellation",
   "metadata": {},
   "source": [
    "Pelas primeiras entradas, podemos notar algumas variáveis que não acrescentam informações úteis ao nosso projeto como `PatientId` e `AppointmentID`. Além disso a variável `Neighbourhood` é o local da consulta, se tivéssemos o local onde paciente mora poderíamos criar uma nova variável e determinar a distância que o paciente percorre até o local da consulta, no entanto como não temos essa informação, a variável `Neighbourhood` também não acrescenta nenhuma informação."
   ]
  },
  {
   "cell_type": "code",
   "execution_count": 4,
   "id": "rolled-intake",
   "metadata": {},
   "outputs": [],
   "source": [
    "# Armazenando as colunas a serem eliminadas posteriormente\n",
    "eliminadas = ['PatientId', 'AppointmentID', 'Neighbourhood']"
   ]
  },
  {
   "cell_type": "markdown",
   "id": "dated-sullivan",
   "metadata": {},
   "source": [
    "**Tipos das variáveis**"
   ]
  },
  {
   "cell_type": "code",
   "execution_count": 5,
   "id": "driven-stake",
   "metadata": {},
   "outputs": [
    {
     "data": {
      "text/plain": [
       "PatientId         float64\n",
       "AppointmentID       int64\n",
       "Gender             object\n",
       "ScheduledDay       object\n",
       "AppointmentDay     object\n",
       "Age                 int64\n",
       "Neighbourhood      object\n",
       "Scholarship         int64\n",
       "Hipertension        int64\n",
       "Diabetes            int64\n",
       "Alcoholism          int64\n",
       "Handcap             int64\n",
       "SMS_received        int64\n",
       "No-show            object\n",
       "dtype: object"
      ]
     },
     "execution_count": 5,
     "metadata": {},
     "output_type": "execute_result"
    }
   ],
   "source": [
    "df.dtypes"
   ]
  },
  {
   "cell_type": "markdown",
   "id": "serious-electronics",
   "metadata": {},
   "source": [
    "Percebe-se que os tipos das variáveis estão de acordo com o esperado, com exceção das variáveis `ScheduledDay` e `AppointmentDay`, portanto vou transformá-las para datetime:"
   ]
  },
  {
   "cell_type": "code",
   "execution_count": 6,
   "id": "human-conversion",
   "metadata": {},
   "outputs": [],
   "source": [
    "# Convertendo ScheduledDay e AppointmentDay de object para datetime\n",
    "df['ScheduledDay'] = pd.to_datetime(df['ScheduledDay']).dt.date.astype('datetime64[ns]')\n",
    "df['AppointmentDay'] = pd.to_datetime(df['AppointmentDay']).dt.date.astype('datetime64[ns]')"
   ]
  },
  {
   "cell_type": "markdown",
   "id": "handed-explosion",
   "metadata": {},
   "source": [
    "**Criando nova variável com a diferença entre ScheduledDay e AppointmentDay**"
   ]
  },
  {
   "cell_type": "markdown",
   "id": "essential-richmond",
   "metadata": {},
   "source": [
    "Para um melhor entendimento, `ScheduledDay` é o dia em que a conulta foi marcada e `AppointmentDay` é o dia que a consulta ocorreu (ou deveria ocorrer), assim vamos criar a variável `dias_ate_consulta` subtraindo a variável `ScheduledDay` da variável `AppointmentDay` e investigar melhor essa nova variável."
   ]
  },
  {
   "cell_type": "code",
   "execution_count": 7,
   "id": "olive-italic",
   "metadata": {},
   "outputs": [],
   "source": [
    "# Criando a variável\n",
    "df['dias_ate_consulta'] = df['AppointmentDay'] - df['ScheduledDay']"
   ]
  },
  {
   "cell_type": "code",
   "execution_count": 8,
   "id": "mediterranean-boundary",
   "metadata": {},
   "outputs": [
    {
     "data": {
      "text/html": [
       "<div>\n",
       "<style scoped>\n",
       "    .dataframe tbody tr th:only-of-type {\n",
       "        vertical-align: middle;\n",
       "    }\n",
       "\n",
       "    .dataframe tbody tr th {\n",
       "        vertical-align: top;\n",
       "    }\n",
       "\n",
       "    .dataframe thead th {\n",
       "        text-align: right;\n",
       "    }\n",
       "</style>\n",
       "<table border=\"1\" class=\"dataframe\">\n",
       "  <thead>\n",
       "    <tr style=\"text-align: right;\">\n",
       "      <th></th>\n",
       "      <th>PatientId</th>\n",
       "      <th>AppointmentID</th>\n",
       "      <th>Gender</th>\n",
       "      <th>ScheduledDay</th>\n",
       "      <th>AppointmentDay</th>\n",
       "      <th>Age</th>\n",
       "      <th>Neighbourhood</th>\n",
       "      <th>Scholarship</th>\n",
       "      <th>Hipertension</th>\n",
       "      <th>Diabetes</th>\n",
       "      <th>Alcoholism</th>\n",
       "      <th>Handcap</th>\n",
       "      <th>SMS_received</th>\n",
       "      <th>No-show</th>\n",
       "      <th>dias_ate_consulta</th>\n",
       "    </tr>\n",
       "  </thead>\n",
       "  <tbody>\n",
       "    <tr>\n",
       "      <th>0</th>\n",
       "      <td>2.987250e+13</td>\n",
       "      <td>5642903</td>\n",
       "      <td>F</td>\n",
       "      <td>2016-04-29</td>\n",
       "      <td>2016-04-29</td>\n",
       "      <td>62</td>\n",
       "      <td>JARDIM DA PENHA</td>\n",
       "      <td>0</td>\n",
       "      <td>1</td>\n",
       "      <td>0</td>\n",
       "      <td>0</td>\n",
       "      <td>0</td>\n",
       "      <td>0</td>\n",
       "      <td>No</td>\n",
       "      <td>0 days</td>\n",
       "    </tr>\n",
       "    <tr>\n",
       "      <th>1</th>\n",
       "      <td>5.589978e+14</td>\n",
       "      <td>5642503</td>\n",
       "      <td>M</td>\n",
       "      <td>2016-04-29</td>\n",
       "      <td>2016-04-29</td>\n",
       "      <td>56</td>\n",
       "      <td>JARDIM DA PENHA</td>\n",
       "      <td>0</td>\n",
       "      <td>0</td>\n",
       "      <td>0</td>\n",
       "      <td>0</td>\n",
       "      <td>0</td>\n",
       "      <td>0</td>\n",
       "      <td>No</td>\n",
       "      <td>0 days</td>\n",
       "    </tr>\n",
       "    <tr>\n",
       "      <th>2</th>\n",
       "      <td>4.262962e+12</td>\n",
       "      <td>5642549</td>\n",
       "      <td>F</td>\n",
       "      <td>2016-04-29</td>\n",
       "      <td>2016-04-29</td>\n",
       "      <td>62</td>\n",
       "      <td>MATA DA PRAIA</td>\n",
       "      <td>0</td>\n",
       "      <td>0</td>\n",
       "      <td>0</td>\n",
       "      <td>0</td>\n",
       "      <td>0</td>\n",
       "      <td>0</td>\n",
       "      <td>No</td>\n",
       "      <td>0 days</td>\n",
       "    </tr>\n",
       "    <tr>\n",
       "      <th>3</th>\n",
       "      <td>8.679512e+11</td>\n",
       "      <td>5642828</td>\n",
       "      <td>F</td>\n",
       "      <td>2016-04-29</td>\n",
       "      <td>2016-04-29</td>\n",
       "      <td>8</td>\n",
       "      <td>PONTAL DE CAMBURI</td>\n",
       "      <td>0</td>\n",
       "      <td>0</td>\n",
       "      <td>0</td>\n",
       "      <td>0</td>\n",
       "      <td>0</td>\n",
       "      <td>0</td>\n",
       "      <td>No</td>\n",
       "      <td>0 days</td>\n",
       "    </tr>\n",
       "    <tr>\n",
       "      <th>4</th>\n",
       "      <td>8.841186e+12</td>\n",
       "      <td>5642494</td>\n",
       "      <td>F</td>\n",
       "      <td>2016-04-29</td>\n",
       "      <td>2016-04-29</td>\n",
       "      <td>56</td>\n",
       "      <td>JARDIM DA PENHA</td>\n",
       "      <td>0</td>\n",
       "      <td>1</td>\n",
       "      <td>1</td>\n",
       "      <td>0</td>\n",
       "      <td>0</td>\n",
       "      <td>0</td>\n",
       "      <td>No</td>\n",
       "      <td>0 days</td>\n",
       "    </tr>\n",
       "  </tbody>\n",
       "</table>\n",
       "</div>"
      ],
      "text/plain": [
       "      PatientId  AppointmentID Gender ScheduledDay AppointmentDay  Age  \\\n",
       "0  2.987250e+13        5642903      F   2016-04-29     2016-04-29   62   \n",
       "1  5.589978e+14        5642503      M   2016-04-29     2016-04-29   56   \n",
       "2  4.262962e+12        5642549      F   2016-04-29     2016-04-29   62   \n",
       "3  8.679512e+11        5642828      F   2016-04-29     2016-04-29    8   \n",
       "4  8.841186e+12        5642494      F   2016-04-29     2016-04-29   56   \n",
       "\n",
       "       Neighbourhood  Scholarship  Hipertension  Diabetes  Alcoholism  \\\n",
       "0    JARDIM DA PENHA            0             1         0           0   \n",
       "1    JARDIM DA PENHA            0             0         0           0   \n",
       "2      MATA DA PRAIA            0             0         0           0   \n",
       "3  PONTAL DE CAMBURI            0             0         0           0   \n",
       "4    JARDIM DA PENHA            0             1         1           0   \n",
       "\n",
       "   Handcap  SMS_received No-show dias_ate_consulta  \n",
       "0        0             0      No            0 days  \n",
       "1        0             0      No            0 days  \n",
       "2        0             0      No            0 days  \n",
       "3        0             0      No            0 days  \n",
       "4        0             0      No            0 days  "
      ]
     },
     "execution_count": 8,
     "metadata": {},
     "output_type": "execute_result"
    }
   ],
   "source": [
    "df.head()"
   ]
  },
  {
   "cell_type": "markdown",
   "id": "respiratory-strand",
   "metadata": {},
   "source": [
    "Ainda, iremos remover as variáveis `ScheduledDay` e `AppointmentDay` do conjunto de dados, pois elas já estão subentendidas na variável `dias_ate_consulta`."
   ]
  },
  {
   "cell_type": "code",
   "execution_count": 9,
   "id": "qualified-background",
   "metadata": {},
   "outputs": [],
   "source": [
    "eliminadas.extend(('AppointmentDay', 'ScheduledDay'))"
   ]
  },
  {
   "cell_type": "markdown",
   "id": "hairy-cyprus",
   "metadata": {},
   "source": [
    "Com exceção das variáveis a serem eliminadas, vou avaliar cada variável para verificar se há entradas anômalas ou estranhas no conjunto de dados. Mas antes, vou renomear cada variável passando para o idioma Português:"
   ]
  },
  {
   "cell_type": "code",
   "execution_count": 10,
   "id": "bright-municipality",
   "metadata": {},
   "outputs": [],
   "source": [
    "df.rename(columns={\"Gender\": \"genero\", \"Age\": \"idade\", \"Scholarship\": \"auxilio_governamental\", \"Hipertension\": \"hipertensao\", \"Diabetes\": \"diabetes\", \"Alcoholism\": \"alcoolismo\", \n",
    "                  \"Handcap\": \"pcd\", \"SMS_received\": \"sms_recebido\", \"No-show\": \"nao_compareceu\"}, inplace=True)"
   ]
  },
  {
   "cell_type": "markdown",
   "id": "second-footage",
   "metadata": {},
   "source": [
    "**Verificação dos valores ausentes**"
   ]
  },
  {
   "cell_type": "code",
   "execution_count": 11,
   "id": "necessary-protection",
   "metadata": {},
   "outputs": [
    {
     "data": {
      "text/plain": [
       "PatientId                0\n",
       "AppointmentID            0\n",
       "genero                   0\n",
       "ScheduledDay             0\n",
       "AppointmentDay           0\n",
       "idade                    0\n",
       "Neighbourhood            0\n",
       "auxilio_governamental    0\n",
       "hipertensao              0\n",
       "diabetes                 0\n",
       "alcoolismo               0\n",
       "pcd                      0\n",
       "sms_recebido             0\n",
       "nao_compareceu           0\n",
       "dias_ate_consulta        0\n",
       "dtype: int64"
      ]
     },
     "execution_count": 11,
     "metadata": {},
     "output_type": "execute_result"
    }
   ],
   "source": [
    "# Valores ausentes\n",
    "df.isnull().sum()"
   ]
  },
  {
   "cell_type": "markdown",
   "id": "fluid-spare",
   "metadata": {},
   "source": [
    "## **Preparação dos Dados**"
   ]
  },
  {
   "cell_type": "code",
   "execution_count": 12,
   "id": "sorted-stable",
   "metadata": {},
   "outputs": [],
   "source": [
    "# Criando uma cópia do conjunto de dados\n",
    "df_clean = df.copy()"
   ]
  },
  {
   "cell_type": "code",
   "execution_count": 13,
   "id": "boolean-westminster",
   "metadata": {},
   "outputs": [],
   "source": [
    "# Removendo as colunas desnecessárias\n",
    "df_clean.drop(columns = eliminadas, inplace=True)"
   ]
  },
  {
   "cell_type": "markdown",
   "id": "basic-dining",
   "metadata": {},
   "source": [
    "Convertendo a coluna `dias_ate_consulta` de *timedelta* para *integer*:"
   ]
  },
  {
   "cell_type": "code",
   "execution_count": 14,
   "id": "protective-domain",
   "metadata": {},
   "outputs": [],
   "source": [
    "df_clean['dias_ate_consulta'] = pd.to_numeric(df_clean['dias_ate_consulta'].dt.days, downcast='integer')"
   ]
  },
  {
   "cell_type": "markdown",
   "id": "ranking-clock",
   "metadata": {},
   "source": [
    "Vou verificar cada variável para verificar se há entradas que podem ser consideradas estranhas:"
   ]
  },
  {
   "cell_type": "markdown",
   "id": "northern-graham",
   "metadata": {},
   "source": [
    "**Variável `genero`**"
   ]
  },
  {
   "cell_type": "code",
   "execution_count": 15,
   "id": "loved-bangkok",
   "metadata": {},
   "outputs": [
    {
     "data": {
      "text/plain": [
       "array(['F', 'M'], dtype=object)"
      ]
     },
     "execution_count": 15,
     "metadata": {},
     "output_type": "execute_result"
    }
   ],
   "source": [
    "df_clean[\"genero\"].unique()"
   ]
  },
  {
   "cell_type": "markdown",
   "id": "nutritional-franchise",
   "metadata": {},
   "source": [
    "**Variável `idade`**"
   ]
  },
  {
   "cell_type": "code",
   "execution_count": 16,
   "id": "growing-accent",
   "metadata": {},
   "outputs": [
    {
     "data": {
      "text/plain": [
       "[-1,\n",
       " 0,\n",
       " 1,\n",
       " 2,\n",
       " 3,\n",
       " 4,\n",
       " 5,\n",
       " 6,\n",
       " 7,\n",
       " 8,\n",
       " 9,\n",
       " 10,\n",
       " 11,\n",
       " 12,\n",
       " 13,\n",
       " 14,\n",
       " 15,\n",
       " 16,\n",
       " 17,\n",
       " 18,\n",
       " 19,\n",
       " 20,\n",
       " 21,\n",
       " 22,\n",
       " 23,\n",
       " 24,\n",
       " 25,\n",
       " 26,\n",
       " 27,\n",
       " 28,\n",
       " 29,\n",
       " 30,\n",
       " 31,\n",
       " 32,\n",
       " 33,\n",
       " 34,\n",
       " 35,\n",
       " 36,\n",
       " 37,\n",
       " 38,\n",
       " 39,\n",
       " 40,\n",
       " 41,\n",
       " 42,\n",
       " 43,\n",
       " 44,\n",
       " 45,\n",
       " 46,\n",
       " 47,\n",
       " 48,\n",
       " 49,\n",
       " 50,\n",
       " 51,\n",
       " 52,\n",
       " 53,\n",
       " 54,\n",
       " 55,\n",
       " 56,\n",
       " 57,\n",
       " 58,\n",
       " 59,\n",
       " 60,\n",
       " 61,\n",
       " 62,\n",
       " 63,\n",
       " 64,\n",
       " 65,\n",
       " 66,\n",
       " 67,\n",
       " 68,\n",
       " 69,\n",
       " 70,\n",
       " 71,\n",
       " 72,\n",
       " 73,\n",
       " 74,\n",
       " 75,\n",
       " 76,\n",
       " 77,\n",
       " 78,\n",
       " 79,\n",
       " 80,\n",
       " 81,\n",
       " 82,\n",
       " 83,\n",
       " 84,\n",
       " 85,\n",
       " 86,\n",
       " 87,\n",
       " 88,\n",
       " 89,\n",
       " 90,\n",
       " 91,\n",
       " 92,\n",
       " 93,\n",
       " 94,\n",
       " 95,\n",
       " 96,\n",
       " 97,\n",
       " 98,\n",
       " 99,\n",
       " 100,\n",
       " 102,\n",
       " 115]"
      ]
     },
     "execution_count": 16,
     "metadata": {},
     "output_type": "execute_result"
    }
   ],
   "source": [
    "sorted(df_clean[\"idade\"].unique())"
   ]
  },
  {
   "cell_type": "markdown",
   "id": "coral-promotion",
   "metadata": {},
   "source": [
    "Como podemos perceber na variável `idade` há entradas que podem ser consideradas estranhas como a idade de -1, pois não há idades negativas e a idade de 115, pois é extremamente raro uma pessoa viver até os 115 anos. Sendo assim, vamos eliminar as entradas que têm esses valores, pois é bem provável que possa ter ocorrido algum tipo de erro no momento da coleta dessas entradas. Assim:"
   ]
  },
  {
   "cell_type": "code",
   "execution_count": 17,
   "id": "criminal-arrest",
   "metadata": {},
   "outputs": [],
   "source": [
    "df_clean = df_clean[(df_clean[\"idade\"] >= 0) | (df_clean[\"idade\"] < 115)]"
   ]
  },
  {
   "cell_type": "markdown",
   "id": "operating-herald",
   "metadata": {},
   "source": [
    "**Variável `auxilio_governamental`**"
   ]
  },
  {
   "cell_type": "code",
   "execution_count": 18,
   "id": "passive-affairs",
   "metadata": {},
   "outputs": [
    {
     "data": {
      "text/plain": [
       "array([0, 1], dtype=int64)"
      ]
     },
     "execution_count": 18,
     "metadata": {},
     "output_type": "execute_result"
    }
   ],
   "source": [
    "df_clean[\"auxilio_governamental\"].unique()"
   ]
  },
  {
   "cell_type": "markdown",
   "id": "atlantic-armstrong",
   "metadata": {},
   "source": [
    "**Variável `hipertensao`**"
   ]
  },
  {
   "cell_type": "code",
   "execution_count": 19,
   "id": "alert-longer",
   "metadata": {},
   "outputs": [
    {
     "data": {
      "text/plain": [
       "array([1, 0], dtype=int64)"
      ]
     },
     "execution_count": 19,
     "metadata": {},
     "output_type": "execute_result"
    }
   ],
   "source": [
    "df_clean[\"hipertensao\"].unique()"
   ]
  },
  {
   "cell_type": "markdown",
   "id": "hearing-manufacturer",
   "metadata": {},
   "source": [
    "**Variável `diabetes`**"
   ]
  },
  {
   "cell_type": "code",
   "execution_count": 20,
   "id": "immediate-cooking",
   "metadata": {},
   "outputs": [
    {
     "data": {
      "text/plain": [
       "array([0, 1], dtype=int64)"
      ]
     },
     "execution_count": 20,
     "metadata": {},
     "output_type": "execute_result"
    }
   ],
   "source": [
    "df_clean[\"diabetes\"].unique()"
   ]
  },
  {
   "cell_type": "markdown",
   "id": "incredible-struggle",
   "metadata": {},
   "source": [
    "**Variável `alcoolismo`**"
   ]
  },
  {
   "cell_type": "code",
   "execution_count": 21,
   "id": "nasty-inquiry",
   "metadata": {},
   "outputs": [
    {
     "data": {
      "text/plain": [
       "array([0, 1], dtype=int64)"
      ]
     },
     "execution_count": 21,
     "metadata": {},
     "output_type": "execute_result"
    }
   ],
   "source": [
    "df_clean[\"alcoolismo\"].unique()"
   ]
  },
  {
   "cell_type": "markdown",
   "id": "satisfied-assault",
   "metadata": {},
   "source": [
    "**Variável `pcd`**"
   ]
  },
  {
   "cell_type": "code",
   "execution_count": 22,
   "id": "mature-gallery",
   "metadata": {},
   "outputs": [
    {
     "data": {
      "text/plain": [
       "array([0, 1, 2, 3, 4], dtype=int64)"
      ]
     },
     "execution_count": 22,
     "metadata": {},
     "output_type": "execute_result"
    }
   ],
   "source": [
    "df_clean[\"pcd\"].unique()"
   ]
  },
  {
   "cell_type": "markdown",
   "id": "compact-privilege",
   "metadata": {},
   "source": [
    "Como a variável `pcd` significa Pessoa com Deficiência e temos cinco tipos de entrada (0, 1, 2, 3 e 4) para essa variável, provavelmente, 0 significa sem deficiência e 1, 2, 3 e 4 algum tipo de deficiência, no entanto, não explicitada qual é o tipo, vou transformar essa variável para categórica binária como sendo 0 sem deficiência e 1 com deficiência, assim:"
   ]
  },
  {
   "cell_type": "code",
   "execution_count": 23,
   "id": "handy-formation",
   "metadata": {},
   "outputs": [],
   "source": [
    "df_clean[\"pcd\"] = df_clean[\"pcd\"].replace([1, 2, 3, 4], 1)"
   ]
  },
  {
   "cell_type": "markdown",
   "id": "unexpected-equation",
   "metadata": {},
   "source": [
    "**Variável `sms_recebido`**"
   ]
  },
  {
   "cell_type": "code",
   "execution_count": 24,
   "id": "peaceful-marine",
   "metadata": {},
   "outputs": [
    {
     "data": {
      "text/plain": [
       "array([0, 1], dtype=int64)"
      ]
     },
     "execution_count": 24,
     "metadata": {},
     "output_type": "execute_result"
    }
   ],
   "source": [
    "df_clean[\"sms_recebido\"].unique()"
   ]
  },
  {
   "cell_type": "markdown",
   "id": "rental-preview",
   "metadata": {},
   "source": [
    "**Variável `nao_compareceu`**"
   ]
  },
  {
   "cell_type": "code",
   "execution_count": 25,
   "id": "affecting-maria",
   "metadata": {},
   "outputs": [
    {
     "data": {
      "text/plain": [
       "array(['No', 'Yes'], dtype=object)"
      ]
     },
     "execution_count": 25,
     "metadata": {},
     "output_type": "execute_result"
    }
   ],
   "source": [
    "df_clean[\"nao_compareceu\"].unique()"
   ]
  },
  {
   "cell_type": "markdown",
   "id": "civic-walker",
   "metadata": {},
   "source": [
    "**Variável `dias_ate_consulta`**"
   ]
  },
  {
   "cell_type": "code",
   "execution_count": 26,
   "id": "recognized-thomson",
   "metadata": {},
   "outputs": [
    {
     "data": {
      "text/plain": [
       "[-6,\n",
       " -1,\n",
       " 0,\n",
       " 1,\n",
       " 2,\n",
       " 3,\n",
       " 4,\n",
       " 5,\n",
       " 6,\n",
       " 7,\n",
       " 8,\n",
       " 9,\n",
       " 10,\n",
       " 11,\n",
       " 12,\n",
       " 13,\n",
       " 14,\n",
       " 15,\n",
       " 16,\n",
       " 17,\n",
       " 18,\n",
       " 19,\n",
       " 20,\n",
       " 21,\n",
       " 22,\n",
       " 23,\n",
       " 24,\n",
       " 25,\n",
       " 26,\n",
       " 27,\n",
       " 28,\n",
       " 29,\n",
       " 30,\n",
       " 31,\n",
       " 32,\n",
       " 33,\n",
       " 34,\n",
       " 35,\n",
       " 36,\n",
       " 37,\n",
       " 38,\n",
       " 39,\n",
       " 40,\n",
       " 41,\n",
       " 42,\n",
       " 43,\n",
       " 44,\n",
       " 45,\n",
       " 46,\n",
       " 47,\n",
       " 48,\n",
       " 49,\n",
       " 50,\n",
       " 51,\n",
       " 52,\n",
       " 53,\n",
       " 54,\n",
       " 55,\n",
       " 56,\n",
       " 57,\n",
       " 58,\n",
       " 59,\n",
       " 60,\n",
       " 61,\n",
       " 62,\n",
       " 63,\n",
       " 64,\n",
       " 65,\n",
       " 66,\n",
       " 67,\n",
       " 68,\n",
       " 69,\n",
       " 70,\n",
       " 71,\n",
       " 72,\n",
       " 73,\n",
       " 74,\n",
       " 75,\n",
       " 76,\n",
       " 77,\n",
       " 78,\n",
       " 79,\n",
       " 80,\n",
       " 81,\n",
       " 82,\n",
       " 83,\n",
       " 84,\n",
       " 85,\n",
       " 86,\n",
       " 87,\n",
       " 88,\n",
       " 89,\n",
       " 90,\n",
       " 91,\n",
       " 92,\n",
       " 93,\n",
       " 94,\n",
       " 95,\n",
       " 96,\n",
       " 97,\n",
       " 98,\n",
       " 101,\n",
       " 102,\n",
       " 103,\n",
       " 104,\n",
       " 105,\n",
       " 107,\n",
       " 108,\n",
       " 109,\n",
       " 110,\n",
       " 111,\n",
       " 112,\n",
       " 115,\n",
       " 117,\n",
       " 119,\n",
       " 122,\n",
       " 123,\n",
       " 125,\n",
       " 126,\n",
       " 127,\n",
       " 132,\n",
       " 133,\n",
       " 139,\n",
       " 142,\n",
       " 146,\n",
       " 151,\n",
       " 155,\n",
       " 162,\n",
       " 169,\n",
       " 176,\n",
       " 179]"
      ]
     },
     "execution_count": 26,
     "metadata": {},
     "output_type": "execute_result"
    }
   ],
   "source": [
    "sorted(df_clean[\"dias_ate_consulta\"].unique())"
   ]
  },
  {
   "cell_type": "markdown",
   "id": "brutal-japanese",
   "metadata": {},
   "source": [
    "Como podemos perceber, há dias negativos, no entanto isso não é possível, pois não pode haver dias até a consulta após a consulta já ter ocorrido, sendo assim vamos eliminar as entradas com esses valores:"
   ]
  },
  {
   "cell_type": "code",
   "execution_count": 27,
   "id": "aggregate-diploma",
   "metadata": {},
   "outputs": [],
   "source": [
    "df_clean = df_clean[df_clean[\"dias_ate_consulta\"] >= 0]"
   ]
  },
  {
   "cell_type": "markdown",
   "id": "instrumental-baking",
   "metadata": {},
   "source": [
    "**Verificação do balanceamento da variável objetivo**"
   ]
  },
  {
   "cell_type": "markdown",
   "id": "premium-finish",
   "metadata": {},
   "source": [
    "A variável objetivo do conjunto de dados é a `No-show`, com isso vamos verificar o seu balanceamento:"
   ]
  },
  {
   "cell_type": "code",
   "execution_count": 28,
   "id": "rolled-attachment",
   "metadata": {},
   "outputs": [
    {
     "data": {
      "image/png": "[encoded data removed]",
      "text/plain": [
       "<Figure size 360x360 with 1 Axes>"
      ]
     },
     "metadata": {},
     "output_type": "display_data"
    }
   ],
   "source": [
    "# Construindo a figura\n",
    "fig, ax = plt.subplots(figsize=(5,5))\n",
    "\n",
    "# Countplot para a variável No-show\n",
    "sns.countplot(df_clean[\"nao_compareceu\"], ax=ax)\n",
    "\n",
    "plt.tight_layout();"
   ]
  },
  {
   "cell_type": "markdown",
   "id": "seasonal-boutique",
   "metadata": {},
   "source": [
    "**Preparando as variáveis `genero` e `nao_compareceu` para a construção do modelo de *Machine Learning***"
   ]
  },
  {
   "cell_type": "markdown",
   "id": "opponent-bumper",
   "metadata": {},
   "source": [
    "Para a variável `genero`, F (Female ou Mulher) vou substituir por 0 e M (Male ou Homem) vou substituir por 1; e para a variável `nao_compareceu` No (Compareceu à consulta) vou substituir por 0 e Yes (Não compareceu à consulta) vou substituir por 1."
   ]
  },
  {
   "cell_type": "code",
   "execution_count": 29,
   "id": "reduced-romance",
   "metadata": {},
   "outputs": [],
   "source": [
    "df_clean[\"genero\"].replace({'F': 0, 'M': 1}, inplace=True)\n",
    "df_clean[\"nao_compareceu\"].replace({'No': 0, 'Yes': 1}, inplace=True)"
   ]
  },
  {
   "cell_type": "markdown",
   "id": "thick-criticism",
   "metadata": {},
   "source": [
    "## **Construção do Modelo de *Machine Learning***"
   ]
  },
  {
   "cell_type": "markdown",
   "id": "unlimited-settlement",
   "metadata": {},
   "source": [
    "Para a construção do modelo de *Machine Learning*, não será feito normalização ou padronização nas variáveis do conjunto de dados, pois como utilizarei apenas o modelo de *Random Forest*, esse tipo de modelo não é sensível a variação do conjunto de dados."
   ]
  },
  {
   "cell_type": "markdown",
   "id": "dated-chrome",
   "metadata": {},
   "source": [
    "Agora, vou separar os dados em treino e teste:"
   ]
  },
  {
   "cell_type": "code",
   "execution_count": 30,
   "id": "fabulous-highlight",
   "metadata": {},
   "outputs": [],
   "source": [
    "# Separando as variáveis independentes e a variável objetivo No-show\n",
    "X = df_clean.drop('nao_compareceu', axis=1)\n",
    "y = df_clean['nao_compareceu']\n",
    "\n",
    "# Separando o conjunto de dados em treino e teste\n",
    "X_train, X_test, y_train, y_test = train_test_split(X, y, stratify=y)"
   ]
  },
  {
   "cell_type": "code",
   "execution_count": 31,
   "id": "traditional-galaxy",
   "metadata": {},
   "outputs": [
    {
     "data": {
      "text/plain": [
       "Index(['genero', 'idade', 'auxilio_governamental', 'hipertensao', 'diabetes',\n",
       "       'alcoolismo', 'pcd', 'sms_recebido', 'dias_ate_consulta'],\n",
       "      dtype='object')"
      ]
     },
     "execution_count": 31,
     "metadata": {},
     "output_type": "execute_result"
    }
   ],
   "source": [
    "X_train.columns"
   ]
  },
  {
   "cell_type": "markdown",
   "id": "republican-alias",
   "metadata": {},
   "source": [
    "Ainda, é necessário realizar o balanceamento dos dados de treino e para isso vou utilizar o método *Under Sampling*:"
   ]
  },
  {
   "cell_type": "code",
   "execution_count": 32,
   "id": "extreme-miller",
   "metadata": {},
   "outputs": [
    {
     "name": "stdout",
     "output_type": "stream",
     "text": [
      "Entradas da variável nao_compareceu após o balanceamento:\n",
      "0    16735\n",
      "1    16735\n",
      "Name: nao_compareceu, dtype: int64 \n",
      "\n"
     ]
    },
    {
     "data": {
      "image/png": "[encoded data removed]",
      "text/plain": [
       "<Figure size 360x360 with 1 Axes>"
      ]
     },
     "metadata": {},
     "output_type": "display_data"
    }
   ],
   "source": [
    "# Modelo para balancear os dados\n",
    "und = RandomUnderSampler()\n",
    "\n",
    "X_und, y_und = und.fit_sample(X_train, y_train)\n",
    "\n",
    "# Verificando o balanceamento dos dados\n",
    "print(\"Entradas da variável nao_compareceu após o balanceamento:\")\n",
    "print(pd.Series(y_und).value_counts(), \"\\n\")\n",
    "\n",
    "# Plotando a nova distribuição da variável No-show\n",
    "fig, ax = plt.subplots(figsize=(5, 5))\n",
    "\n",
    "sns.countplot(pd.Series(y_und), ax=ax)\n",
    "\n",
    "plt.tight_layout()"
   ]
  },
  {
   "cell_type": "markdown",
   "id": "graphic-working",
   "metadata": {},
   "source": [
    "**XGBoost**"
   ]
  },
  {
   "cell_type": "markdown",
   "id": "dominican-pastor",
   "metadata": {},
   "source": [
    "Vou definir `learning_rate = 0.1` e ajustar o parâmetro `n_estimators`:"
   ]
  },
  {
   "cell_type": "code",
   "execution_count": 33,
   "id": "physical-dancing",
   "metadata": {},
   "outputs": [
    {
     "name": "stdout",
     "output_type": "stream",
     "text": [
      "Melhor ajuste: {'n_estimators': 25}\n"
     ]
    }
   ],
   "source": [
    "# Modelo XGBClassifier\n",
    "xgb_model = XGBClassifier(learning_rate = 0.1, verbosity = 0)\n",
    "\n",
    "# Ajustando o melhor valor para n_estimators\n",
    "par = {'n_estimators': range(25, 1000, 25)}\n",
    "\n",
    "xgb_clf = GridSearchCV(xgb_model, par, cv=ShuffleSplit(n_splits=1, test_size=0.3, random_state=20))\n",
    "xgb_clf.fit(X_und, y_und)\n",
    "\n",
    "# Armazenando o melhor ajuste de n_estimators\n",
    "n_est = xgb_clf.best_params_['n_estimators']\n",
    "\n",
    "# Visualizar o melhor ajuste\n",
    "print(\"Melhor ajuste: {}\".format(xgb_clf.best_params_))"
   ]
  },
  {
   "cell_type": "markdown",
   "id": "centered-footage",
   "metadata": {},
   "source": [
    "Agora, vou ajustar os parâmetros `max_depth` e `min_child_weight`:"
   ]
  },
  {
   "cell_type": "code",
   "execution_count": 34,
   "id": "miniature-little",
   "metadata": {},
   "outputs": [
    {
     "name": "stdout",
     "output_type": "stream",
     "text": [
      "Melhores ajustes: {'max_depth': 5, 'min_child_weight': 1}\n"
     ]
    }
   ],
   "source": [
    "# Modelo XGBClassifier\n",
    "xgb_model = XGBClassifier(learning_rate = 0.1, n_estimators = n_est, verbosity = 0)\n",
    "\n",
    "# Ajustando o melhor valor para n_estimators\n",
    "par = {\n",
    "    'max_depth': range(2, 10, 1), \n",
    "    'min_child_weight': range(1, 6, 1)\n",
    "    }\n",
    "\n",
    "xgb_clf = GridSearchCV(xgb_model, par, cv=ShuffleSplit(n_splits=1, test_size=0.3, random_state=20))\n",
    "xgb_clf.fit(X_und, y_und)\n",
    "\n",
    "# Armazenando o melhor ajuste de max_depth\n",
    "m_depth = xgb_clf.best_params_['max_depth']\n",
    "mcw = xgb_clf.best_params_['min_child_weight']\n",
    "\n",
    "# Visualizar o melhor ajuste\n",
    "print(\"Melhores ajustes: {}\".format(xgb_clf.best_params_))"
   ]
  },
  {
   "cell_type": "markdown",
   "id": "dense-olympus",
   "metadata": {},
   "source": [
    "Ajustando o parâmetro `gamma`:"
   ]
  },
  {
   "cell_type": "code",
   "execution_count": 35,
   "id": "dedicated-manufacturer",
   "metadata": {},
   "outputs": [
    {
     "name": "stdout",
     "output_type": "stream",
     "text": [
      "Melhor ajuste: {'gamma': 0.0}\n"
     ]
    }
   ],
   "source": [
    "# Modelo XGBClassifier\n",
    "xgb_model = XGBClassifier(learning_rate = 0.1, n_estimators = n_est, max_depth = m_depth, min_child_weight = mcw, verbosity = 0)\n",
    "\n",
    "# Ajustando o melhor valor para num_leaves\n",
    "par = {'gamma':[i/10.0 for i in range(0,5)]}\n",
    "\n",
    "xgb_clf = GridSearchCV(xgb_model, par, cv=ShuffleSplit(n_splits=1, test_size=0.3, random_state=20))\n",
    "xgb_clf.fit(X_und, y_und)\n",
    "\n",
    "# Armazenando o melhor ajuste de num_leaves\n",
    "gam = xgb_clf.best_params_['gamma']\n",
    "\n",
    "# Visualizar o melhor ajuste\n",
    "print(\"Melhor ajuste: {}\".format(xgb_clf.best_params_))"
   ]
  },
  {
   "cell_type": "markdown",
   "id": "correct-contribution",
   "metadata": {},
   "source": [
    "Agora, vou ajustar o parâmetro `learning_rate`:"
   ]
  },
  {
   "cell_type": "code",
   "execution_count": 36,
   "id": "aerial-thompson",
   "metadata": {},
   "outputs": [
    {
     "name": "stdout",
     "output_type": "stream",
     "text": [
      "Melhor ajuste: {'learning_rate': 0.1}\n"
     ]
    }
   ],
   "source": [
    "# Modelo XGBClassifier\n",
    "xgb_model = XGBClassifier(n_estimators = n_est, max_depth = m_depth, min_child_weight = mcw, gamma = gam, verbosity = 0)\n",
    "\n",
    "# Ajustando o melhor valor para num_leaves\n",
    "par = {'learning_rate':[0.001, 0.01, 0.1, 1, 10]}\n",
    "\n",
    "xgb_clf = GridSearchCV(xgb_model, par, cv=ShuffleSplit(n_splits=1, test_size=0.3, random_state=20))\n",
    "xgb_clf.fit(X_und, y_und)\n",
    "\n",
    "# Armazenando o melhor ajuste de num_leaves\n",
    "l_rate = xgb_clf.best_params_['learning_rate']\n",
    "\n",
    "# Visualizar o melhor ajuste\n",
    "print(\"Melhor ajuste: {}\".format(xgb_clf.best_params_))"
   ]
  },
  {
   "cell_type": "markdown",
   "id": "clean-lunch",
   "metadata": {},
   "source": [
    "Agora, com os parâmetros ajustados, vamos treinar o modelo:"
   ]
  },
  {
   "cell_type": "code",
   "execution_count": 37,
   "id": "technological-burden",
   "metadata": {},
   "outputs": [],
   "source": [
    "# Construindo o modelo XGBClassifier\n",
    "xgb_model = XGBClassifier(learning_rate = l_rate, n_estimators = n_est, max_depth = m_depth, min_child_weight = mcw, gamma = gam, verbosity = 0)\n",
    "\n",
    "# Fit (ajuste) do modelo\n",
    "xgb_model.fit(X_und, y_und)\n",
    "\n",
    "# Fazendo previsões\n",
    "y_pred = xgb_model.predict(X_test)\n",
    "y_prob = xgb_model.predict_proba(X_test)"
   ]
  },
  {
   "cell_type": "markdown",
   "id": "fitting-badge",
   "metadata": {},
   "source": [
    "Assim, vou avaliar o modelo utilizando a Acurácia, a AUC (Área Sob a Curva) e a Matriz de Confusão, também vou plotar a curva ROC para ter uma melhor visualização da AUC."
   ]
  },
  {
   "cell_type": "code",
   "execution_count": 38,
   "id": "collectible-burke",
   "metadata": {},
   "outputs": [
    {
     "name": "stdout",
     "output_type": "stream",
     "text": [
      "Acurácia:\t58.01%\n",
      "Área sob a curva (AUC):\t67.63%\n"
     ]
    }
   ],
   "source": [
    "print(\"Acurácia:\\t{}%\".format(round(accuracy_score(y_test, y_pred) * 100, 2)))\n",
    "print(\"Área sob a curva (AUC):\\t{}%\".format(round(roc_auc_score(y_test, y_pred) * 100, 2)))"
   ]
  },
  {
   "cell_type": "code",
   "execution_count": 39,
   "id": "written-elite",
   "metadata": {},
   "outputs": [
    {
     "data": {
      "image/png": "[encoded data removed]",
      "text/plain": [
       "<Figure size 432x288 with 2 Axes>"
      ]
     },
     "metadata": {},
     "output_type": "display_data"
    }
   ],
   "source": [
    "# Matriz de confusão\n",
    "fig, ax = plt.subplots()\n",
    "\n",
    "sns.heatmap(confusion_matrix(y_test, y_pred, normalize='true'), annot=True, ax=ax)\n",
    "\n",
    "ax.set_title('Matriz de Confusão Normalizada')\n",
    "ax.set_ylabel('Verdadeiro')\n",
    "ax.set_xlabel('Previsto')\n",
    "\n",
    "plt.tight_layout()"
   ]
  },
  {
   "cell_type": "code",
   "execution_count": 40,
   "id": "civil-romania",
   "metadata": {},
   "outputs": [
    {
     "data": {
      "image/png": "[encoded data removed]",
      "text/plain": [
       "<Figure size 720x576 with 1 Axes>"
      ]
     },
     "metadata": {},
     "output_type": "display_data"
    }
   ],
   "source": [
    "# Plotando a curva ROC:\n",
    "fig, ax = plt.subplots(figsize=(10,8))\n",
    "vis_rl = ROCAUC(xgb_model, classes=[0, 1], title=\"Curvas ROC\")\n",
    "\n",
    "vis_rl.fit(X_und, y_und); # Ajusta os dados de treino ao visualizador\n",
    "vis_rl.score(X_test, y_test); # Avalia o modelo com os dados de teste\n",
    "vis_rl.show(); # Finaliza e mostra a figura"
   ]
  },
  {
   "cell_type": "markdown",
   "id": "square-tournament",
   "metadata": {},
   "source": [
    "**Exportando o modelo XGBoost**"
   ]
  },
  {
   "cell_type": "code",
   "execution_count": 41,
   "id": "physical-blackberry",
   "metadata": {},
   "outputs": [],
   "source": [
    "# Exportando o modelo\n",
    "file_name = \"xgbclassifier.pkl\"\n",
    "\n",
    "# Salvando\n",
    "pickle.dump(xgb_model, open(file_name, \"wb\"))"
   ]
  }
 ],
 "metadata": {
  "kernelspec": {
   "display_name": "Python 3",
   "language": "python",
   "name": "python3"
  },
  "language_info": {
   "codemirror_mode": {
    "name": "ipython",
    "version": 3
   },
   "file_extension": ".py",
   "mimetype": "text/x-python",
   "name": "python",
   "nbconvert_exporter": "python",
   "pygments_lexer": "ipython3",
   "version": "3.8.5"
  }
 },
 "nbformat": 4,
 "nbformat_minor": 5
}
